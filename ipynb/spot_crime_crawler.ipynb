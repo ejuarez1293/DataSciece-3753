{
 "cells": [
  {
   "cell_type": "code",
   "execution_count": null,
   "metadata": {
    "collapsed": true
   },
   "outputs": [],
   "source": [
    "from bs4 import BeautifulSoup\n",
    "import requests\n",
    "import time\n",
    "import pandas as pd"
   ]
  },
  {
   "cell_type": "code",
   "execution_count": null,
   "metadata": {
    "collapsed": true
   },
   "outputs": [],
   "source": [
    "def get_soup(city):\n",
    "    \"\"\"Returns BeautifulSoup object for each set of links\"\"\"\n",
    "    r = requests.get('https://spotcrime.com/' + city + 'daily')\n",
    "    r2 = requests.get('https://spotcrime.com/' + city + 'daily/more')\n",
    "    soup1 = BeautifulSoup(r.text, 'html.parser')\n",
    "    soup2 = BeautifulSoup(r2.text, 'html.parser')\n",
    "    \n",
    "    return soup1, soup2"
   ]
  },
  {
   "cell_type": "code",
   "execution_count": null,
   "metadata": {
    "collapsed": true
   },
   "outputs": [],
   "source": [
    "def get_links(soups):\n",
    "    \"\"\"Pulls all the links from each BeautifulSoup object into a single list\"\"\"\n",
    "    links = []\n",
    "    for dates in soups[0].find_all('ol', class_='list-unstyled'):\n",
    "        for link in dates.find_all('a'):\n",
    "            links.append(link['href'])\n",
    "    for dates in soups[1].find_all('ol', class_='list-unstyled'):\n",
    "        for link in dates.find_all('a'):\n",
    "            links.append(link['href'])\n",
    "    return links"
   ]
  },
  {
   "cell_type": "code",
   "execution_count": null,
   "metadata": {
    "collapsed": true,
    "scrolled": true
   },
   "outputs": [],
   "source": [
    "def crime_df(links, base_url):\n",
    "    \"\"\"Loads each link and downloads the table of crimes, storing it in a list of lists\n",
    "    Returns a dataframe\n",
    "    \"\"\"\n",
    "    data = []\n",
    "    for i, link in enumerate(links):\n",
    "        print(i, link)\n",
    "        try:\n",
    "            r = requests.get(base_url + link)\n",
    "        except:\n",
    "            print('uh oh, timeout')\n",
    "            time.sleep(10)\n",
    "            r = requests.get(base_url+link)\n",
    "\n",
    "        soup = BeautifulSoup(r.text, 'html.parser')\n",
    "        table = soup.find('table')\n",
    "        if table == None:\n",
    "            print('no table, skipping')\n",
    "            continue\n",
    "        rows = table.find_all('tr')\n",
    "        for row in rows:\n",
    "            cols = row.find_all('td')\n",
    "            cols = [ele.text.strip() for ele in cols]\n",
    "            crime = [ele for ele in cols if ele]\n",
    "            if len(crime) == 0:\n",
    "                continue\n",
    "            if len(crime) == 4:\n",
    "                crime = ['A'] + crime\n",
    "            data.append(crime)\n",
    "    return pd.DataFrame(data, columns=['A', 'Crime', 'Time', 'Address', 'Details'])"
   ]
  },
  {
   "cell_type": "code",
   "execution_count": null,
   "metadata": {
    "collapsed": true
   },
   "outputs": [],
   "source": [
    "base_url = 'https://spotcrime.com'\n",
    "cities = [\n",
    "    'mi/detroit/',\n",
    "    'mo/st.+louis/',\n",
    "    'md/baltimore/',\n",
    "    'oh/toledo/',\n",
    "    'ga/albany/',\n",
    "    'mi/flint/',\n",
    "    'tn/memphis/',\n",
    "    'pa/philadelphia/',\n",
    "]"
   ]
  },
  {
   "cell_type": "code",
   "execution_count": null,
   "metadata": {
    "collapsed": true
   },
   "outputs": [],
   "source": [
    "# Downloads and saves each cities crime information to a gzipped csv file\n",
    "for city in cities:\n",
    "    soup1, soup2 = get_soup(city)\n",
    "    \n",
    "    links = get_links((soup1, soup2))\n",
    "    df = crime_df(links, base_url)\n",
    "    df = df.drop(['A', 'Address', 'Details'], axis=1)\n",
    "    df.to_csv('./crime_{}_{}.csv.gz'.format(city[3:-1], city[:2]), compression='gzip', index=False)"
   ]
  }
 ],
 "metadata": {
  "kernelspec": {
   "display_name": "Python 3",
   "language": "python",
   "name": "python3"
  },
  "language_info": {
   "codemirror_mode": {
    "name": "ipython",
    "version": 3
   },
   "file_extension": ".py",
   "mimetype": "text/x-python",
   "name": "python",
   "nbconvert_exporter": "python",
   "pygments_lexer": "ipython3",
   "version": "3.6.1"
  }
 },
 "nbformat": 4,
 "nbformat_minor": 2
}
